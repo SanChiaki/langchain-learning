{
 "cells": [
  {
   "cell_type": "code",
   "execution_count": 1,
   "id": "833714e1-da08-4c9e-93ad-c9fc797c1e10",
   "metadata": {},
   "outputs": [],
   "source": [
    "import ssl\n",
    "import os\n",
    "#sdfsdfdf#\n",
    "ssl._create_default_https_context = ssl._create_unverified_context"
   ]
  },
  {
   "cell_type": "code",
   "execution_count": 3,
   "id": "319244f2-b3c7-4fac-8578-29652fd2f95a",
   "metadata": {},
   "outputs": [
    {
     "name": "stdout",
     "output_type": "stream",
     "text": [
      "\n",
      "\n",
      "RainbowSox.\n"
     ]
    }
   ],
   "source": [
    "from langchain.llms import OpenAI\n",
    "\n",
    "llm = OpenAI(temperature=0.9)\n",
    "\n",
    "text = \"What would be a good company name for a company that makes colorful socks?\"\n",
    "print(llm(text))\n",
    "# Feetful of Fun"
   ]
  },
  {
   "cell_type": "code",
   "execution_count": 7,
   "id": "d0ca5f2e-aa2f-4e41-984b-ef2299a67276",
   "metadata": {},
   "outputs": [
    {
     "name": "stdout",
     "output_type": "stream",
     "text": [
      "What is a good name for a company that makes colorful socks?\n"
     ]
    }
   ],
   "source": [
    "#提示模板（PromptTemplate）: 管理 LLM 的提示\n",
    "from langchain.prompts import PromptTemplate\n",
    " \n",
    "prompt = PromptTemplate(\n",
    "    input_variables=[\"product\"],\n",
    "    template=\"What is a good name for a company that makes {product}?\",\n",
    ")\n",
    "print(prompt.format(product=\"colorful socks\"))\n",
    "#What is a good name for a company that makes colorful socks?"
   ]
  },
  {
   "cell_type": "code",
   "execution_count": 8,
   "id": "85c86876-997d-4fe4-a438-87d0f60eec5d",
   "metadata": {},
   "outputs": [
    {
     "data": {
      "text/plain": [
       "'\\n\\nFunky Socks Co.'"
      ]
     },
     "execution_count": 8,
     "metadata": {},
     "output_type": "execute_result"
    }
   ],
   "source": [
    "from langchain.chains import LLMChain\n",
    "chain = LLMChain(llm=llm, prompt=prompt)\n",
    "chain.run(\"colorful socks\")\n",
    "# -> '\\n\\nSocktastic!'"
   ]
  }
 ],
 "metadata": {
  "kernelspec": {
   "display_name": "Python 3 (ipykernel)",
   "language": "python",
   "name": "python3"
  },
  "language_info": {
   "codemirror_mode": {
    "name": "ipython",
    "version": 3
   },
   "file_extension": ".py",
   "mimetype": "text/x-python",
   "name": "python",
   "nbconvert_exporter": "python",
   "pygments_lexer": "ipython3",
   "version": "3.10.12"
  }
 },
 "nbformat": 4,
 "nbformat_minor": 5
}
